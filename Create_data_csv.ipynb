{
 "cells": [
  {
   "cell_type": "code",
   "execution_count": 31,
   "metadata": {},
   "outputs": [],
   "source": [
    "import os\n",
    "import pandas as pd"
   ]
  },
  {
   "cell_type": "code",
   "execution_count": 32,
   "metadata": {},
   "outputs": [
    {
     "data": {
      "text/plain": [
       "'c:\\\\Users\\\\Daniel\\\\Desktop\\\\Grad school\\\\UWaterloo Masters\\\\Winter 2024\\\\STAT923\\\\Final Project\\\\STAT932_Final_Project\\\\Images\\\\DrivImages'"
      ]
     },
     "execution_count": 32,
     "metadata": {},
     "output_type": "execute_result"
    }
   ],
   "source": [
    "# Change directories to where it is stored when cloning\n",
    "os.chdir(\"c:\\\\Users\\\\Daniel\\\\Desktop\\\\Grad school\\\\UWaterloo Masters\\\\Winter 2024\\\\STAT923\\\\Final Project\\\\STAT932_Final_Project\\\\Images\\\\DrivImages\")\n",
    "os.getcwd()"
   ]
  },
  {
   "cell_type": "code",
   "execution_count": 33,
   "metadata": {},
   "outputs": [],
   "source": [
    "# Create a map to label images\n",
    "# forward: 0\n",
    "# looking left: 1\n",
    "# looking right: 2\n",
    "label_map = {'f': 0, \n",
    "             'll':1,\n",
    "             'lr':2}"
   ]
  },
  {
   "cell_type": "code",
   "execution_count": 34,
   "metadata": {},
   "outputs": [],
   "source": [
    "image_files = []\n",
    "labels = []\n",
    "# Loop through directory appending images and labels\n",
    "for filename in os.listdir(os.getcwd()):\n",
    "    file_path = os.path.join(os.getcwd(), filename)\n",
    "    if 'f' in file_path:\n",
    "        labels.append(label_map['f'])\n",
    "        image_files.append(filename)\n",
    "    elif 'lr' in file_path:\n",
    "        labels.append(label_map['lr'])\n",
    "        image_files.append(filename)\n",
    "    elif 'll' in file_path:\n",
    "        labels.append(label_map['ll'])\n",
    "        image_files.append(filename)"
   ]
  },
  {
   "cell_type": "code",
   "execution_count": 35,
   "metadata": {},
   "outputs": [
    {
     "name": "stdout",
     "output_type": "stream",
     "text": [
      "606\n",
      "606\n"
     ]
    }
   ],
   "source": [
    "print(len(image_files))\n",
    "print(len(labels))"
   ]
  },
  {
   "cell_type": "code",
   "execution_count": 37,
   "metadata": {},
   "outputs": [],
   "source": [
    "# create a dataframe and output to csv\n",
    "data_dict = {'images': image_files, 'labels': labels}\n",
    "img_df = pd.DataFrame.from_dict(data_dict)\n",
    "\n"
   ]
  },
  {
   "cell_type": "code",
   "execution_count": 38,
   "metadata": {},
   "outputs": [
    {
     "data": {
      "text/html": [
       "<div>\n",
       "<style scoped>\n",
       "    .dataframe tbody tr th:only-of-type {\n",
       "        vertical-align: middle;\n",
       "    }\n",
       "\n",
       "    .dataframe tbody tr th {\n",
       "        vertical-align: top;\n",
       "    }\n",
       "\n",
       "    .dataframe thead th {\n",
       "        text-align: right;\n",
       "    }\n",
       "</style>\n",
       "<table border=\"1\" class=\"dataframe\">\n",
       "  <thead>\n",
       "    <tr style=\"text-align: right;\">\n",
       "      <th></th>\n",
       "      <th>images</th>\n",
       "      <th>labels</th>\n",
       "    </tr>\n",
       "  </thead>\n",
       "  <tbody>\n",
       "    <tr>\n",
       "      <th>0</th>\n",
       "      <td>20130529_01_Driv_001_f .jpg</td>\n",
       "      <td>0</td>\n",
       "    </tr>\n",
       "    <tr>\n",
       "      <th>1</th>\n",
       "      <td>20130529_01_Driv_002_f .jpg</td>\n",
       "      <td>0</td>\n",
       "    </tr>\n",
       "    <tr>\n",
       "      <th>2</th>\n",
       "      <td>20130529_01_Driv_003_f .jpg</td>\n",
       "      <td>0</td>\n",
       "    </tr>\n",
       "    <tr>\n",
       "      <th>3</th>\n",
       "      <td>20130529_01_Driv_004_f .jpg</td>\n",
       "      <td>0</td>\n",
       "    </tr>\n",
       "    <tr>\n",
       "      <th>4</th>\n",
       "      <td>20130529_01_Driv_005_f .jpg</td>\n",
       "      <td>0</td>\n",
       "    </tr>\n",
       "  </tbody>\n",
       "</table>\n",
       "</div>"
      ],
      "text/plain": [
       "                        images  labels\n",
       "0  20130529_01_Driv_001_f .jpg       0\n",
       "1  20130529_01_Driv_002_f .jpg       0\n",
       "2  20130529_01_Driv_003_f .jpg       0\n",
       "3  20130529_01_Driv_004_f .jpg       0\n",
       "4  20130529_01_Driv_005_f .jpg       0"
      ]
     },
     "execution_count": 38,
     "metadata": {},
     "output_type": "execute_result"
    }
   ],
   "source": [
    "img_df.head()"
   ]
  },
  {
   "cell_type": "code",
   "execution_count": 41,
   "metadata": {},
   "outputs": [],
   "source": [
    "out_path = \"c:\\\\Users\\\\Daniel\\\\Desktop\\\\Grad school\\\\UWaterloo Masters\\\\Winter 2024\\\\STAT923\\\\Final Project\\\\STAT932_Final_Project\\\\Images\\\\data.csv\"\n",
    "img_df.to_csv(out_path, index = False)"
   ]
  },
  {
   "cell_type": "code",
   "execution_count": null,
   "metadata": {},
   "outputs": [],
   "source": []
  }
 ],
 "metadata": {
  "kernelspec": {
   "display_name": "Python 3",
   "language": "python",
   "name": "python3"
  },
  "language_info": {
   "codemirror_mode": {
    "name": "ipython",
    "version": 3
   },
   "file_extension": ".py",
   "mimetype": "text/x-python",
   "name": "python",
   "nbconvert_exporter": "python",
   "pygments_lexer": "ipython3",
   "version": "3.10.6"
  }
 },
 "nbformat": 4,
 "nbformat_minor": 2
}
