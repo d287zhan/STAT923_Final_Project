{
 "cells": [
  {
   "cell_type": "code",
   "execution_count": 10,
   "metadata": {},
   "outputs": [],
   "source": [
    "import pandas as pd\n",
    "import numpy as np\n",
    "import os\n",
    "import zipfile"
   ]
  },
  {
   "cell_type": "code",
   "execution_count": 11,
   "metadata": {},
   "outputs": [
    {
     "data": {
      "text/plain": [
       "'c:\\\\Users\\\\Daniel\\\\Desktop\\\\Grad school\\\\UWaterloo Masters\\\\Winter 2024\\\\STAT923\\\\Final Project\\\\STAT932_Final_Project'"
      ]
     },
     "execution_count": 11,
     "metadata": {},
     "output_type": "execute_result"
    }
   ],
   "source": [
    "os.getcwd()"
   ]
  },
  {
   "cell_type": "code",
   "execution_count": 12,
   "metadata": {},
   "outputs": [],
   "source": [
    "def unzip_folder(zip_file_path, extract_to_path):\n",
    "    # Ensure the target directory exists\n",
    "    if not os.path.exists(extract_to_path):\n",
    "        os.makedirs(extract_to_path)\n",
    "    \n",
    "    # Open the zip file\n",
    "    with zipfile.ZipFile(zip_file_path, 'r') as zip_ref:\n",
    "        # Extract all the contents into the target directory\n",
    "        zip_ref.extractall(extract_to_path)\n",
    "        print(f\"Extracted all files from {zip_file_path} to {extract_to_path}\")\n"
   ]
  },
  {
   "cell_type": "code",
   "execution_count": 13,
   "metadata": {},
   "outputs": [
    {
     "name": "stdout",
     "output_type": "stream",
     "text": [
      "Extracted all files from C:\\Users\\Daniel\\Desktop\\Grad school\\UWaterloo Masters\\Winter 2024\\STAT923\\Final Project\\STAT932_Final_Project\\DrivImages.zip to C:\\Users\\Daniel\\Desktop\\Grad school\\UWaterloo Masters\\Winter 2024\\STAT923\\Final Project\\STAT932_Final_Project\\Images\n"
     ]
    }
   ],
   "source": [
    "zip_file_path = 'C:\\\\Users\\\\Daniel\\\\Desktop\\\\Grad school\\\\UWaterloo Masters\\\\Winter 2024\\\\STAT923\\\\Final Project\\\\STAT932_Final_Project\\\\DrivImages.zip' \n",
    "extract_to_path = 'C:\\\\Users\\\\Daniel\\Desktop\\\\Grad school\\\\UWaterloo Masters\\\\Winter 2024\\\\STAT923\\\\Final Project\\\\STAT932_Final_Project\\\\Images'  \n",
    "\n",
    "unzip_folder(zip_file_path, extract_to_path)"
   ]
  }
 ],
 "metadata": {
  "kernelspec": {
   "display_name": "Python 3",
   "language": "python",
   "name": "python3"
  },
  "language_info": {
   "codemirror_mode": {
    "name": "ipython",
    "version": 3
   },
   "file_extension": ".py",
   "mimetype": "text/x-python",
   "name": "python",
   "nbconvert_exporter": "python",
   "pygments_lexer": "ipython3",
   "version": "3.10.6"
  }
 },
 "nbformat": 4,
 "nbformat_minor": 2
}
